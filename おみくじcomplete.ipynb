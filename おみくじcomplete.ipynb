{
  "nbformat": 4,
  "nbformat_minor": 0,
  "metadata": {
    "colab": {
      "provenance": [],
      "authorship_tag": "ABX9TyP601siel+BPD/A7gTr4aaV",
      "include_colab_link": true
    },
    "kernelspec": {
      "name": "python3",
      "display_name": "Python 3"
    },
    "language_info": {
      "name": "python"
    }
  },
  "cells": [
    {
      "cell_type": "markdown",
      "metadata": {
        "id": "view-in-github",
        "colab_type": "text"
      },
      "source": [
        "<a href=\"https://colab.research.google.com/github/ChRo05/omikuji_experience/blob/main/%E3%81%8A%E3%81%BF%E3%81%8F%E3%81%98complete.ipynb\" target=\"_parent\"><img src=\"https://colab.research.google.com/assets/colab-badge.svg\" alt=\"Open In Colab\"/></a>"
      ]
    },
    {
      "cell_type": "markdown",
      "source": [
        "# **おみくじを作ってみよう**："
      ],
      "metadata": {
        "id": "5cmDOcjXiRYt"
      }
    },
    {
      "cell_type": "markdown",
      "source": [
        "## **条件分岐(分岐)**\n",
        "\n",
        "条件分岐は,特定の条件が満たされた場合に特定のコードを実行するための構造。\n",
        "\n",
        "これは,`if`,`elif`（else ifの略）,および`else`キーワードを使用して行われる。\n",
        "\n",
        "以下に基本的な例を示す：\n",
        "\n",
        "```python\n",
        "x = 10\n",
        "\n",
        "if x > 0:\n",
        "    print(\"x is positive\")\n",
        "elif x < 0:\n",
        "    print(\"x is negative\")\n",
        "else:\n",
        "    print(\"x is zero\")\n",
        "```\n",
        "\n",
        "*  `x > 0`が評価:この条件が真（True）であれば,`\"x is positive\"`が出力される。\n",
        "* この条件が偽（False）であれば,次に`x < 0`が評価される。\n",
        "* この条件が真であれば,`\"x is negative\"`が出力される。\n",
        "* どちらの条件も偽であれば,`else`ブロックが実行され,`\"x is zero\"`が出力される。\n",
        "* `if`,`elif`,`else`の各ブロックは`インデント(字下げ)`されていることに注意する。\n",
        "  * これはPythonの構文の一部であり,`ブロック`の`開始`と`終了`を示している。\n",
        "\n",
        "以上がPythonの条件分岐についての基本的な説明。"
      ],
      "metadata": {
        "id": "E2qsXjmcknYx"
      }
    },
    {
      "cell_type": "markdown",
      "source": [
        "## **繰り返し(反復)**\n",
        "\n",
        "繰り返しとは、特定のコードブロックを何度も実行することを指す。\n",
        "\n",
        "Pythonでは、主に`for`ループと`while`ループの2つの方法で繰り返し処理を行う。\n",
        "\n",
        "1. **forループ**: `for`ループは、リストや文字列などのイテラブル（反復可能な）オブジェクトの各要素に対して、一連の命令を実行します。以下に基本的な例を示します：\n",
        "\n",
        "```python\n",
        "for i in range(5):\n",
        "    print(i)\n",
        "```\n",
        "このコードは、0から4までの各数字を出力。\n",
        "\n",
        "2. **whileループ**: `while`ループは、特定の条件が真である限り、一連の命令を繰り返し実行。\n",
        "\n",
        "以下に基本的な例を示します：\n",
        "\n",
        "```python\n",
        "i = 0\n",
        "while i < 5:\n",
        "    print(i)\n",
        "    i += 1\n",
        "```\n",
        "このコードも、0から4までの各数字を出力。\n",
        "\n",
        "* これらのループは、必要に応じてネスト（入れ子に）することも可能。\n",
        "* `break`文と`continue`文を使用して、ループの流れを制御することもできる。\n",
        "* `break`文はループを完全に終了し、`continue`文は現在のイテレーションをスキップして次のイテレーションに進む。\n"
      ],
      "metadata": {
        "id": "SSENdxqLqvvj"
      }
    },
    {
      "cell_type": "markdown",
      "source": [
        "## **配列**\n",
        "\n",
        "* Pythonでは,`配列としてリストを一般的に使用`\n",
        "* リストは,異なるデータ型の要素を格納することができる柔軟なデータ構造。\n",
        "* リストは角括弧 `[]` で定義\n",
        "* 各要素はカンマ `,` で区切られる。\n",
        "\n",
        "例えば,以下のようにリストを作成することができる：\n",
        "\n",
        "```python\n",
        "my_list = [1, 2, 3, 'apple', 'banana']\n",
        "```\n",
        "\n",
        "このリストには,整数と文字列の両方が含まれている。\n",
        "\n",
        "リストの要素にアクセスするには,インデックスを使用。\n",
        "\n",
        "インデックスは`0から始まる。`\n",
        "\n",
        "例えば,上記のリストで `'apple'` を取得するには,以下のようにする：\n",
        "\n",
        "```python\n",
        "print(my_list[3])  # Output: apple\n",
        "```\n",
        "\n",
        "* リストは可変\n",
        "  * 要素の追加,削除,変更が可能。\n",
        "    * `リスト内包表記`を使用してリストを生成することも可能。\n",
        "\n",
        "* Pythonには,`array` モジュールもありますが,これは同じ型のデータを格納するための配列を提供。\n",
        "* Pythonの `list` は非常に強力で柔軟性がある。\n",
        "  * 多くの場合,`array` モジュールを使用する必要はない。\n",
        "\n",
        "以上がPythonの配列（リスト）についての基本的な説明。"
      ],
      "metadata": {
        "id": "ESaFi-O_kYu8"
      }
    },
    {
      "cell_type": "markdown",
      "source": [
        "## **乱数**\n",
        "\n",
        "乱数とは,予測不可能な数のことを指す。これらの数は,一連の数値の中でランダムに選ばれ,その選択は他の数値の選択に依存しないという特性を持っている。\n",
        "\n",
        "Pythonでは,乱数を生成するために `random` モジュールを使用する。このモジュールには,さまざまな種類の乱数を生成するための関数が含まれている。\n",
        "\n",
        "例えば,0.0以上1.0未満の範囲で浮動小数点の乱数を生成するには,`random()` 関数を使用：\n",
        "\n",
        "```python\n",
        "import random\n",
        "print(random.random())  # Output: 0.8594880558993951 (for example)\n",
        "```\n",
        "\n",
        "特定の範囲の整数の乱数を生成するには,`randint()` 関数を使用：\n",
        "\n",
        "```python\n",
        "import random\n",
        "print(random.randint(1, 10))  # Output: 6 (for example)\n",
        "```\n",
        "\n",
        "この例では,1から10までの間でランダムな整数が出力される。\n",
        "\n",
        "また,リストからランダムに要素を選択するには,`choice()` 関数を使用：\n",
        "\n",
        "```python\n",
        "import random\n",
        "my_list = [1, 2, 3, 'apple', 'banana']\n",
        "print(random.choice(my_list))  # Output: apple (for example)\n",
        "```\n",
        "\n",
        "これらは,Pythonの `random` モジュールの基本的な使用法の一部。乱数は,シミュレーション,ゲーム,統計的サンプリング,セキュリティ,そして機械学習など,多くの分野で重要な役割を果たす。"
      ],
      "metadata": {
        "id": "-Ix7B6eBkgiq"
      }
    },
    {
      "cell_type": "code",
      "source": [
        "# @title 演習形式_ALL\n",
        "# 演習1: random モジュールをインポートする\n",
        "# この下にコードを書いてください\n",
        "\n",
        "# 演習2: おみくじの結果リストを作成する\n",
        "# リスト名: fortunes\n",
        "# リストの要素: '大吉', '吉', '凶', '大凶'\n",
        "# この下にコードを書いてください\n",
        "\n",
        "# 演習3: ランダムにおみくじの結果を選ぶ\n",
        "# 変数名: fortune\n",
        "# ヒント: random.choice() 関数を使用する\n",
        "# この下にコードを書いてください\n",
        "\n",
        "# 演習4: 選ばれたおみくじの結果を表示する\n",
        "# ヒント: print() 関数を使用する\n",
        "# この下にコードを書いてください\n",
        "\n"
      ],
      "metadata": {
        "id": "fqCEhM9ElLhB",
        "cellView": "form"
      },
      "execution_count": null,
      "outputs": []
    },
    {
      "cell_type": "code",
      "source": [
        "# 演習1: random モジュールをインポートする\n",
        "# この下にコードを書いてください\n"
      ],
      "metadata": {
        "id": "xvbfKhpqlm7e"
      },
      "execution_count": null,
      "outputs": []
    },
    {
      "cell_type": "code",
      "source": [
        "# 演習2: おみくじの結果リストを作成する\n",
        "# リスト名: fortunes\n",
        "# リストの要素: '大吉', '吉', '凶', '大凶'\n",
        "# この下にコードを書いてください\n"
      ],
      "metadata": {
        "id": "kfxo8SzKlqBc"
      },
      "execution_count": null,
      "outputs": []
    },
    {
      "cell_type": "code",
      "source": [
        "# 演習3: ランダムにおみくじの結果を選ぶ\n",
        "# 変数名: fortune\n",
        "# ヒント: random.choice() 関数を使用する\n",
        "# この下にコードを書いてください\n",
        "\n"
      ],
      "metadata": {
        "id": "CYzUSE6ylrfZ"
      },
      "execution_count": null,
      "outputs": []
    },
    {
      "cell_type": "code",
      "source": [
        "# 演習4: 選ばれたおみくじの結果を表示する\n",
        "# ヒント: print() 関数を使用する\n",
        "# この下にコードを書いてください\n"
      ],
      "metadata": {
        "id": "ZJQILscal3wE"
      },
      "execution_count": null,
      "outputs": []
    },
    {
      "cell_type": "code",
      "execution_count": null,
      "metadata": {
        "cellView": "form",
        "id": "emMcmJzKhhg9"
      },
      "outputs": [],
      "source": [
        "# @title 完成例\n",
        "import random\n",
        "\n",
        "# おみくじの結果リスト\n",
        "fortunes = [‘大吉’, ‘吉’, ‘凶’, ‘大凶’]\n",
        "\n",
        "# ランダムにおみくじの結果を選ぶ\n",
        "fortune = random.choice(fortunes)\n",
        "\n",
        "# 結果を表示する\n",
        "print(fortune)"
      ]
    },
    {
      "cell_type": "code",
      "source": [
        "# @title 演習例_条件分岐_ALL\n",
        "\n",
        "\n",
        "# 演習1: random モジュールをインポートする\n",
        "# この下にコードを書いてください\n",
        "\n",
        "# 演習2: おみくじの結果リストを作成する\n",
        "# リスト名: fortunes\n",
        "# リストの要素: '大吉', '吉', '凶', '大凶'\n",
        "# この下にコードを書いてください\n",
        "\n",
        "# 演習3: ランダムにおみくじの結果を選ぶ\n",
        "# 変数名: fortune\n",
        "# ヒント: random.choice() 関数を使用する\n",
        "# この下にコードを書いてください\n",
        "\n",
        "# 演習4: 選ばれたおみくじの結果に基づいて異なるメッセージを表示する\n",
        "# ヒント: if, elif, else を使用する\n",
        "# 例:\n",
        "# if fortune == '大吉':\n",
        "#     print(\"大吉です！素晴らしい一日になりそうですね！\")\n",
        "# elif fortune == '吉':\n",
        "#     print(\"吉です！良いことが起こるかもしれません！\")\n",
        "# elif fortune == '凶':\n",
        "#     print(\"凶です。注意深く行動しましょう。\")\n",
        "# else:\n",
        "#     print(\"大凶です。今日は静かに過ごすのが良いかもしれません。\")\n",
        "# この下にコードを書いてください\n",
        "```\n"
      ],
      "metadata": {
        "id": "tCNbphlMonDd",
        "cellView": "form"
      },
      "execution_count": null,
      "outputs": []
    },
    {
      "cell_type": "code",
      "source": [
        "# @title 演習例_条件分岐_Part1\n",
        "\n",
        "\n",
        "# 演習1: random モジュールをインポートする\n",
        "# この下にコードを書いてください\n",
        "\n"
      ],
      "metadata": {
        "id": "MsDS8WRwBLZv"
      },
      "execution_count": null,
      "outputs": []
    },
    {
      "cell_type": "code",
      "source": [
        "# @title 演習例_条件分岐_Part2\n",
        "\n",
        "# 演習2: おみくじの結果リストを作成する\n",
        "# リスト名: fortunes\n",
        "# リストの要素: '大吉', '吉', '凶', '大凶'\n",
        "# この下にコードを書いてください\n"
      ],
      "metadata": {
        "id": "IXqXM-TUBXD3"
      },
      "execution_count": null,
      "outputs": []
    },
    {
      "cell_type": "code",
      "source": [
        "# @title 演習例_条件分岐_Part3\n",
        "\n",
        "# 演習3: ランダムにおみくじの結果を選ぶ\n",
        "# 変数名: fortune\n",
        "# ヒント: random.choice() 関数を使用する\n",
        "# この下にコードを書いてください\n",
        "\n"
      ],
      "metadata": {
        "id": "W6hp4VWPBd_v"
      },
      "execution_count": null,
      "outputs": []
    },
    {
      "cell_type": "code",
      "source": [
        "# @title 演習例_条件分岐_Part4\n",
        "\n",
        "# 演習4: 選ばれたおみくじの結果に基づいて異なるメッセージを表示する\n",
        "# ヒント: if, elif, else を使用する\n",
        "# この下にコードを書いてください\n"
      ],
      "metadata": {
        "id": "vIRJNnL5BiYD"
      },
      "execution_count": null,
      "outputs": []
    },
    {
      "cell_type": "code",
      "source": [
        "# @title 完成例_条件分岐\n",
        "\n",
        "# 演習1: random モジュールをインポートする\n",
        "import random\n",
        "\n",
        "# 演習2: おみくじの結果リストを作成する\n",
        "fortunes = ['大吉', '吉', '凶', '大凶']\n",
        "\n",
        "# 演習3: ランダムにおみくじの結果を選ぶ\n",
        "fortune = random.choice(fortunes)\n",
        "\n",
        "# 演習4: 選ばれたおみくじの結果に基づいて異なるメッセージを表示する\n",
        "if fortune == '大吉':\n",
        "    print(\"大吉です！素晴らしい一日になりそうですね！\")\n",
        "elif fortune == '吉':\n",
        "    print(\"吉です！良いことが起こるかもしれません！\")\n",
        "elif fortune == '凶':\n",
        "    print(\"凶です。注意深く行動しましょう。\")\n",
        "else:\n",
        "    print(\"大凶です。今日は静かに過ごすのが良いかもしれません。\")\n"
      ],
      "metadata": {
        "id": "_0OtgFNgocyB",
        "cellView": "form"
      },
      "execution_count": null,
      "outputs": []
    },
    {
      "cell_type": "code",
      "source": [
        "# @title 演習例_繰り返し_ALL\n",
        "\n",
        "# 演習1: random モジュールをインポートする\n",
        "# この下にコードを書いてください\n",
        "\n",
        "# 演習2: おみくじの結果リストを作成する\n",
        "# リスト名: fortunes\n",
        "# リストの要素: '大吉', '吉', '凶', '大凶'\n",
        "# この下にコードを書いてください\n",
        "\n",
        "# 演習3: 無限ループを作成する\n",
        "# ヒント: while True: を使用する\n",
        "# この下にコードを書いてください\n",
        "\n",
        "    # 演習4: ユーザーにキーボード入力を促すメッセージを表示する\n",
        "    # この下にコードを書いてください\n",
        "\n",
        "    # 演習5: ユーザーの入力を取得する\n",
        "    # ヒント: input() 関数を使用する\n",
        "    # この下にコードを書いてください\n",
        "\n",
        "    # 演習6: ユーザーが 'q' を入力した場合、ループを終了する\n",
        "    # ヒント: if 文と break 文を使用する\n",
        "    # この下にコードを書いてください\n",
        "\n",
        "    # 演習7: ランダムにおみくじの結果を選ぶ\n",
        "    # ヒント: random.choice() 関数を使用する\n",
        "    # この下にコードを書いてください\n",
        "\n",
        "    # 演習8: 選ばれたおみくじの結果に基づいて異なるメッセージを表示する\n",
        "    # ヒント: if, elif, else を使用する\n",
        "    # この下にコードを書いてください\n",
        "\n",
        "\n"
      ],
      "metadata": {
        "id": "_Jk0NfunpuKW"
      },
      "execution_count": null,
      "outputs": []
    },
    {
      "cell_type": "code",
      "source": [
        "# @title 演習例_繰り返し_Part1\n",
        "\n",
        "# 演習1: random モジュールをインポートする\n",
        "# この下にコードを書いてください\n",
        "\n"
      ],
      "metadata": {
        "id": "5dPJIsknCWjX"
      },
      "execution_count": null,
      "outputs": []
    },
    {
      "cell_type": "code",
      "source": [
        "# @title 演習例_繰り返し_Part2\n",
        "\n",
        "# 演習2: おみくじの結果リストを作成する\n",
        "# リスト名: fortunes\n",
        "# リストの要素: '大吉', '吉', '凶', '大凶'\n",
        "# この下にコードを書いてください\n",
        "\n"
      ],
      "metadata": {
        "id": "oNoh9LaNCaOe"
      },
      "execution_count": null,
      "outputs": []
    },
    {
      "cell_type": "code",
      "source": [
        "# @title 演習例_繰り返し_Part3\n",
        "\n",
        "# 演習3: 無限ループを作成する\n",
        "# ヒント: while True: を使用する\n",
        "# この下にコードを書いてください\n",
        "\n",
        ""
      ],
      "metadata": {
        "id": "DSffpVJkCevB"
      },
      "execution_count": null,
      "outputs": []
    },
    {
      "cell_type": "code",
      "source": [
        "# @title 演習例_繰り返し_Part4\n",
        "\n",
        "    # 演習4: ユーザーにキーボード入力を促すメッセージを表示する\n",
        "    # この下にコードを書いてください\n",
        "\n",
        ""
      ],
      "metadata": {
        "id": "YGM2MkF2Cizz"
      },
      "execution_count": null,
      "outputs": []
    },
    {
      "cell_type": "code",
      "source": [
        "# @title 演習例_繰り返し_Part5\n",
        "\n",
        "    # 演習5: ユーザーの入力を取得する\n",
        "    # ヒント: input() 関数を使用する\n",
        "    # この下にコードを書いてください\n",
        "\n"
      ],
      "metadata": {
        "id": "QNX_y8pZCmzk"
      },
      "execution_count": null,
      "outputs": []
    },
    {
      "cell_type": "code",
      "source": [
        "# @title 演習例_繰り返し_Part6\n",
        "\n",
        "    # 演習6: ユーザーが 'q' を入力した場合、ループを終了する\n",
        "    # ヒント: if 文と break 文を使用する\n",
        "    # この下にコードを書いてください\n",
        "\n",
        ""
      ],
      "metadata": {
        "id": "1MDeHiG7Cqso"
      },
      "execution_count": null,
      "outputs": []
    },
    {
      "cell_type": "code",
      "source": [
        "# @title 演習例_繰り返し_Part7\n",
        "\n",
        "    # 演習7: ランダムにおみくじの結果を選ぶ\n",
        "    # ヒント: random.choice() 関数を使用する\n",
        "    # この下にコードを書いてください\n",
        "\n",
        ""
      ],
      "metadata": {
        "id": "xJ-pCyirCvJ0"
      },
      "execution_count": null,
      "outputs": []
    },
    {
      "cell_type": "code",
      "source": [
        "# @title 演習例_繰り返し_Part8\n",
        "\n",
        "    # 演習8: 選ばれたおみくじの結果に基づいて異なるメッセージを表示する\n",
        "    # ヒント: if, elif, else を使用する\n",
        "    # この下にコードを書いてください\n"
      ],
      "metadata": {
        "id": "uaPxI3YECzXd"
      },
      "execution_count": null,
      "outputs": []
    },
    {
      "cell_type": "code",
      "source": [
        "# @title 完成例_繰り返し\n",
        "\n",
        "import random\n",
        "\n",
        "# おみくじの結果リスト\n",
        "fortunes = ['大吉', '吉', '凶', '大凶']\n",
        "\n",
        "while True:\n",
        "    # ユーザーにキーボード入力を促す\n",
        "    print(\"おみくじを引くには何かキーを押してください。終了するには 'q' を押してください。\")\n",
        "    user_input = input()\n",
        "\n",
        "    # ユーザーが 'q' を入力した場合、ループを終了する\n",
        "    if user_input.lower() == 'q':\n",
        "        break\n",
        "\n",
        "    # ランダムにおみくじの結果を選ぶ\n",
        "    fortune = random.choice(fortunes)\n",
        "\n",
        "    # 選ばれたおみくじの結果に基づいて異なるメッセージを表示する\n",
        "    if fortune == '大吉':\n",
        "        print(\"大吉です！素晴らしい一日になりそうですね！\")\n",
        "    elif fortune == '吉':\n",
        "        print(\"吉です！良いことが起こるかもしれません！\")\n",
        "    elif fortune == '凶':\n",
        "        print(\"凶です。注意深く行動しましょう。\")\n",
        "    else:\n",
        "        print(\"大凶です。今日は静かに過ごすのが良いかもしれません。\")\n",
        "\n"
      ],
      "metadata": {
        "id": "eTts8BULpYB9",
        "cellView": "form"
      },
      "execution_count": null,
      "outputs": []
    },
    {
      "cell_type": "markdown",
      "source": [
        "# [参考]\n",
        "* ## [【2024】Pythonで遊べる面白いプログラム集！コピペOK・初心者必見の簡単ガイド](https://bizroad-svc.com/blog/python-omoshiroi-program/)(https://bizroad-svc.com/blog/python-omoshiroi-program/)"
      ],
      "metadata": {
        "id": "TluGJQKKhny1"
      }
    }
  ]
}