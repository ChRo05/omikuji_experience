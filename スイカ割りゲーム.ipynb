{
  "nbformat": 4,
  "nbformat_minor": 0,
  "metadata": {
    "colab": {
      "provenance": [],
      "authorship_tag": "ABX9TyPdGHr37id8LHdMz9IZXxe/",
      "include_colab_link": true
    },
    "kernelspec": {
      "name": "python3",
      "display_name": "Python 3"
    },
    "language_info": {
      "name": "python"
    }
  },
  "cells": [
    {
      "cell_type": "markdown",
      "metadata": {
        "id": "view-in-github",
        "colab_type": "text"
      },
      "source": [
        "<a href=\"https://colab.research.google.com/github/ChRo05/omikuji_experience/blob/main/%E3%82%B9%E3%82%A4%E3%82%AB%E5%89%B2%E3%82%8A%E3%82%B2%E3%83%BC%E3%83%A0.ipynb\" target=\"_parent\"><img src=\"https://colab.research.google.com/assets/colab-badge.svg\" alt=\"Open In Colab\"/></a>"
      ]
    },
    {
      "cell_type": "markdown",
      "source": [
        "# スイカ割りゲームを作ってみよう: ゼロからのPython入門講座"
      ],
      "metadata": {
        "id": "lcsOfu2nKtcn"
      }
    },
    {
      "cell_type": "markdown",
      "source": [
        "## 乱数を生成\n",
        "\n",
        "1. randomモジュールをインポート\n",
        "*  import `モジュール名`\n",
        "\n",
        "2. 0以上5未満の乱数を生成\n",
        "* `print関数`  `(random.randrange(開始値 ≦ 乱数 < 終了値))`"
      ],
      "metadata": {
        "id": "eZsVV49gF2Rg"
      }
    },
    {
      "cell_type": "code",
      "source": [
        "# randomモジュールをインポート\n",
        "\n",
        "\n",
        "\n",
        "# 0以上5未満の乱数を生成\n"
      ],
      "metadata": {
        "id": "AXDd6eeNtC0B"
      },
      "execution_count": null,
      "outputs": []
    },
    {
      "cell_type": "markdown",
      "source": [],
      "metadata": {
        "id": "zdWcatYsKroU"
      }
    },
    {
      "cell_type": "code",
      "source": [
        "# @title 解答例\n",
        "import random\n",
        "print(random.randrange(0, 5))\n"
      ],
      "metadata": {
        "cellView": "form",
        "id": "pnxGLk0-HlAo"
      },
      "execution_count": null,
      "outputs": []
    },
    {
      "cell_type": "code",
      "source": [],
      "metadata": {
        "id": "3X9c32ccOgmi"
      },
      "execution_count": null,
      "outputs": []
    },
    {
      "cell_type": "markdown",
      "source": [
        "## スイカとプレイヤーの位置を設定する\n",
        "\n",
        "* スイカの位置のx座標とy座標は変数suika_xとsuika_y\n",
        "* プレイヤーの位置のx座標とy座標は変数player_xとplayer_yに代入\n",
        "\n"
      ],
      "metadata": {
        "id": "0uswMacTKhLF"
      }
    },
    {
      "cell_type": "code",
      "source": [
        "# スイカの位置を決める\n",
        "\n",
        "suika_x =\n",
        "        = random.randrange(0, 5)\n",
        "\n",
        "\n",
        "# プレイヤーの位置を決める\n",
        "\n",
        "player_x =\n",
        "         = random.randrange(0, 5)\n"
      ],
      "metadata": {
        "id": "2fLI6pgDLkGz"
      },
      "execution_count": null,
      "outputs": []
    },
    {
      "cell_type": "code",
      "source": [
        "# @title 解答例\n",
        "\n",
        "# スイカの位置を決める\n",
        "suika_x = random.randrange(0, 5)\n",
        "suika_y = random.randrange(0, 5)\n",
        "\n",
        "# プレイヤーの位置を決める\n",
        "player_x = random.randrange(0, 5)\n",
        "player_y = random.randrange(0, 5)"
      ],
      "metadata": {
        "cellView": "form",
        "id": "PKNUSyHbLX0i"
      },
      "execution_count": null,
      "outputs": []
    },
    {
      "cell_type": "markdown",
      "source": [
        "## ゲームのループ処理\n",
        "\n",
        "プレイヤーとスイカの位置が一致するまで繰り返すループ処理を考える\n",
        "```\n",
        "while 条件式:\n",
        "繰り返したい処理①\n",
        "繰り返したい処理①\n",
        "  ・\n",
        "  ・\n",
        "  ・\n",
        "```\n",
        "* `条件式の直後に:（コロン）をつける`\n",
        "* 処理を書く際は、`インデント(字下げ)と呼ばれる半角スペースを入れる:tabキー`\n",
        "\n",
        "[サンプル]\n",
        "* 5までの数字を数える\n",
        "  * 0～カウントをはじめ、5未満のときは、1ずつ数え続ける\n",
        "\n",
        "```\n",
        "# count = 0 で初期化した状態から始める\n",
        "count = 0\n",
        "\n",
        "# count が 5 未満の時は、処理を続ける\n",
        "while count < 5:\n",
        "    count += 1\n",
        "    print(count)\n",
        "```\n",
        "\n",
        "### 算術演算子\n",
        "\n",
        "|演算子|使用例1|使用例2|説明|\n",
        "|--|--|--|--|\n",
        "|+|a + b|1 + 2|aとbの加算,(3)|\n",
        "|-|a - b|6 - 4|aからbを減算,(2)|\n",
        "|*|a * b|3 * 2|aとbの乗算,(6)|\n",
        "|/|a / b|15 / 4|aとbの除算,(3.75)|\n",
        "|//|a // b|15 // 4|aとbの除算,(3)|\n",
        "|%|a % b|5 % 2|aとbの剰余,(1)|\n",
        "|**|a**n|2**3|aのn乗,(8)|\n",
        "\n",
        "\n",
        "### 論理演算子\n",
        "\n",
        "|演算子|使用例|説明|\n",
        "|--|--|--|\n",
        "|and|--|右辺と左辺が等しい(論理積)|\n",
        "|or|--|右辺あるいは左辺が等しい(論理和)|\n",
        "|!|--|右辺と左辺が等しくない(否定)|\n",
        "\n",
        "### 比較演算子\n",
        "\n",
        "|値|比較演算子|値|説明|\n",
        "|--|--|--|--|\n",
        "|3|==|3|等しい|\n",
        "|5|!=|2|等しくない:否定|\n",
        "|1|<|4|小さい|\n",
        "|6|<=|8|小さいか|\n",
        "|7|<=|7|あるいは等しい|\n",
        "|3|>|5|大きい|\n",
        "|9|>=|4|大きいか|\n",
        "|7|>=|7|あるいは等しい|\n",
        "\n",
        "\n"
      ],
      "metadata": {
        "id": "ddyi35MFM8ez"
      }
    },
    {
      "cell_type": "code",
      "source": [
        "# スイカとプレイヤーの位置が違う間、処理を繰り返す：実行してもエラーになるため注意\n",
        "\n",
        "## x座標が違うという条件\n",
        "suika_x! = player_x\n",
        "\n",
        "## y座標が違うという条件\n",
        "suika_y != player_y"
      ],
      "metadata": {
        "id": "QA0N4DcVROVe"
      },
      "execution_count": null,
      "outputs": []
    },
    {
      "cell_type": "code",
      "source": [
        "# 条件がFalse or Falseの状況をつくる\n",
        "\n",
        "while (suika_x != player_x) or (suika_y != player_y):\n",
        "\n"
      ],
      "metadata": {
        "id": "MTjGZwjjSIcl"
      },
      "execution_count": null,
      "outputs": []
    },
    {
      "cell_type": "code",
      "execution_count": null,
      "metadata": {
        "id": "xxdwZgORCpZw",
        "cellView": "form"
      },
      "outputs": [],
      "source": [
        "# @title 完成例\n",
        "import random\n",
        "import math\n",
        "\n",
        "def calc_distance(x1, y1, x2, y2):\n",
        "    # ２点間の距離を求める\n",
        "    diff_x = x1 - x2\n",
        "    diff_y = y1 - y2\n",
        "\n",
        "    return math.sqrt(diff_x**2 + diff_y**2)\n",
        "\n",
        "\n",
        "suika_x = random.randrange(0, 5)  # スイカのx座標\n",
        "suika_y = random.randrange(0, 5)  # スイカのy座標\n",
        "\n",
        "player_x = random.randrange(0, 5) # プレイヤーのx座標\n",
        "player_y = random.randrange(0, 5) # プレイヤーのy座標\n",
        "\n",
        "# スイカとプレイヤーの位置が異なる間、処理を繰り返す\n",
        "while (suika_x != player_x) or (suika_y != player_y):\n",
        "\n",
        "    # スイカとプレイヤーの距離を表示する\n",
        "    distance = calc_distance(player_x, player_y, suika_x, suika_y)\n",
        "    print(\"スイカへの距離:\", distance)\n",
        "\n",
        "    # キー入力に応じて、プレイヤーを移動する\n",
        "    c = input(\"n:北に移動 s:南に移動 e:東に移動 w:西に移動\")\n",
        "    if c == \"n\":\n",
        "        player_y = player_y - 1\n",
        "    elif c == \"s\":\n",
        "        player_y = player_y + 1\n",
        "    elif c == \"w\":\n",
        "        player_x = player_x - 1\n",
        "    elif c == \"e\":\n",
        "        player_x = player_x + 1\n",
        "\n",
        "print(\"スイカを割りました！\")"
      ]
    },
    {
      "cell_type": "code",
      "source": [
        "# 演習1: 必要なモジュールをインポートする\n",
        "# ここにコードを書いてください"
      ],
      "metadata": {
        "id": "MyxilqGTrofJ"
      },
      "execution_count": null,
      "outputs": []
    },
    {
      "cell_type": "code",
      "source": [
        "# 演習2: ２点間の距離を求める関数を定義する\n",
        "# 関数名: calc_distance\n",
        "# 引数: x1, y1, x2, y2\n",
        "# 戻り値: ２点間の距離\n",
        "# ここにコードを書いてください"
      ],
      "metadata": {
        "id": "adx6CDtjrslX"
      },
      "execution_count": null,
      "outputs": []
    },
    {
      "cell_type": "code",
      "source": [
        "# 演習3: スイカとプレイヤーの初期位置をランダムに設定する\n",
        "# ここにコードを書いてください\n"
      ],
      "metadata": {
        "id": "0WgnkO-rrt46"
      },
      "execution_count": null,
      "outputs": []
    },
    {
      "cell_type": "code",
      "source": [
        " # 演習5: スイカとプレイヤーの距離を表示する\n",
        "    # ここにコードを書いてください"
      ],
      "metadata": {
        "id": "ULbJiZMbrvzb"
      },
      "execution_count": null,
      "outputs": []
    },
    {
      "cell_type": "code",
      "source": [
        " # 演習6: ユーザーにキーボード入力を促すメッセージを表示する\n",
        "    # ここにコードを書いてください"
      ],
      "metadata": {
        "id": "6uMjaWQmrxx-"
      },
      "execution_count": null,
      "outputs": []
    },
    {
      "cell_type": "code",
      "source": [
        "  # 演習7: ユーザーの入力に応じて、プレイヤーを移動する\n",
        "    # ここにコードを書いてください"
      ],
      "metadata": {
        "id": "9dY9jS-wr2u6"
      },
      "execution_count": null,
      "outputs": []
    },
    {
      "cell_type": "code",
      "source": [
        "# 演習8: \"スイカを割りました！\"と表示する\n",
        "# ここにコードを書いてください"
      ],
      "metadata": {
        "id": "5v_aNlkrr4Q0"
      },
      "execution_count": null,
      "outputs": []
    },
    {
      "cell_type": "code",
      "source": [
        "# @title 演習形式\n",
        "\n",
        "# 演習1: 必要なモジュールをインポートする\n",
        "# ここにコードを書いてください\n",
        "\n",
        "# 演習2: ２点間の距離を求める関数を定義する\n",
        "# 関数名: calc_distance\n",
        "# 引数: x1, y1, x2, y2\n",
        "# 戻り値: ２点間の距離\n",
        "# ここにコードを書いてください\n",
        "\n",
        "# 演習3: スイカとプレイヤーの初期位置をランダムに設定する\n",
        "# ここにコードを書いてください\n",
        "\n",
        "# 演習4: スイカとプレイヤーの位置が異なる間、以下の処理を繰り返す\n",
        "# ここにコードを書いてください\n",
        "\n",
        "    # 演習5: スイカとプレイヤーの距離を表示する\n",
        "    # ここにコードを書いてください\n",
        "\n",
        "    # 演習6: ユーザーにキーボード入力を促すメッセージを表示する\n",
        "    # ここにコードを書いてください\n",
        "\n",
        "    # 演習7: ユーザーの入力に応じて、プレイヤーを移動する\n",
        "    # ここにコードを書いてください\n",
        "\n",
        "# 演習8: \"スイカを割りました！\"と表示する\n",
        "# ここにコードを書いてください\n"
      ],
      "metadata": {
        "id": "wlIHsZt1qHxa"
      },
      "execution_count": null,
      "outputs": []
    }
  ]
}